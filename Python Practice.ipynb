{
 "cells": [
  {
   "cell_type": "markdown",
   "id": "3027e5ad",
   "metadata": {},
   "source": [
    "## Write a program to determine whether the person is eligible for vote or not"
   ]
  },
  {
   "cell_type": "code",
   "execution_count": 5,
   "id": "20101c34",
   "metadata": {},
   "outputs": [
    {
     "name": "stdout",
     "output_type": "stream",
     "text": [
      "Enter the age:28\n",
      "The Person is eligibe to vote for the election\n"
     ]
    }
   ],
   "source": [
    "Age=int(input('Enter the age:'))\n",
    "\n",
    "if Age>18:\n",
    "    print('The Person is eligibe to vote for the election')\n",
    "else:\n",
    "    print('The Person is not eligibe to vote')\n",
    "    \n",
    "\n",
    "    "
   ]
  },
  {
   "cell_type": "markdown",
   "id": "3f0afdd7",
   "metadata": {},
   "source": [
    "## Program to Determine character enter by the User"
   ]
  },
  {
   "cell_type": "code",
   "execution_count": 7,
   "id": "23a948aa",
   "metadata": {},
   "outputs": [
    {
     "name": "stdout",
     "output_type": "stream",
     "text": [
      "Enter the Character89\n",
      "Digit\n",
      "alpha_numeric\n"
     ]
    }
   ],
   "source": [
    "select=input('Enter the Character')\n",
    "\n",
    "if (select.isdigit()):\n",
    "    print('Digit')\n",
    "if (select.isalnum()):\n",
    "    print('alpha_numeric')\n",
    "if (select.isspace()):\n",
    "    print('Only enetered the space')\n"
   ]
  },
  {
   "cell_type": "code",
   "execution_count": 8,
   "id": "04b114fc",
   "metadata": {},
   "outputs": [
    {
     "name": "stdout",
     "output_type": "stream",
     "text": [
      "Enter the age:4\n",
      "The Person is not eligibe to vote, The total number of years left as follow: 14\n"
     ]
    }
   ],
   "source": [
    "Age=int(input('Enter the age:'))\n",
    "\n",
    "if Age>18:\n",
    "    print('The Person is eligibe to vote for the election')\n",
    "else:\n",
    "    print('The Person is not eligibe to vote, The total number of years left as follow:',18-Age)\n",
    "    \n",
    "\n",
    "    "
   ]
  },
  {
   "cell_type": "code",
   "execution_count": 16,
   "id": "1c5a4b5b",
   "metadata": {},
   "outputs": [
    {
     "name": "stdout",
     "output_type": "stream",
     "text": [
      "Enter the age:5\n",
      "You have to wait for 13 to become eligible to vote\n"
     ]
    }
   ],
   "source": [
    "Age=int(input('Enter the age:'))\n",
    "\n",
    "if Age>18:\n",
    "    print('The Person is eligibe to vote for the election')\n",
    "else:\n",
    "    years=18-Age\n",
    "    print('You have to wait for '+str(years)+' to become eligible to vote')\n",
    "    \n",
    "\n",
    "    "
   ]
  },
  {
   "cell_type": "code",
   "execution_count": 14,
   "id": "59603fae",
   "metadata": {},
   "outputs": [
    {
     "data": {
      "text/plain": [
       "14"
      ]
     },
     "execution_count": 14,
     "metadata": {},
     "output_type": "execute_result"
    }
   ],
   "source": [
    "    years=18-Age\n",
    "years"
   ]
  },
  {
   "cell_type": "code",
   "execution_count": 18,
   "id": "91b4f916",
   "metadata": {},
   "outputs": [
    {
     "name": "stdout",
     "output_type": "stream",
     "text": [
      "Enter the age:6\n",
      "You have to wait for 12 years to become eligible to vote\n"
     ]
    }
   ],
   "source": [
    "Age = int(input('Enter the age:'))\n",
    "\n",
    "if Age > 18:\n",
    "    print('The Person is eligible to vote for the election')\n",
    "else:\n",
    "    years = 18 - Age\n",
    "    print('You have to wait for ' + str(years) + ' years to become eligible to vote')\n"
   ]
  },
  {
   "cell_type": "code",
   "execution_count": 25,
   "id": "701cf0fd",
   "metadata": {},
   "outputs": [
    {
     "name": "stdout",
     "output_type": "stream",
     "text": [
      "Enter the Numbers: 465892034542\n",
      "465892034542 is even\n"
     ]
    }
   ],
   "source": [
    "Num=int(input('Enter the Numbers: '))\n",
    "\n",
    "if Num%2==0:\n",
    "    print(Num,'is even')\n",
    "else:\n",
    "    print(Num,'is odd')"
   ]
  },
  {
   "cell_type": "code",
   "execution_count": null,
   "id": "73d56040",
   "metadata": {},
   "outputs": [],
   "source": []
  }
 ],
 "metadata": {
  "kernelspec": {
   "display_name": "Python 3 (ipykernel)",
   "language": "python",
   "name": "python3"
  },
  "language_info": {
   "codemirror_mode": {
    "name": "ipython",
    "version": 3
   },
   "file_extension": ".py",
   "mimetype": "text/x-python",
   "name": "python",
   "nbconvert_exporter": "python",
   "pygments_lexer": "ipython3",
   "version": "3.11.4"
  }
 },
 "nbformat": 4,
 "nbformat_minor": 5
}
